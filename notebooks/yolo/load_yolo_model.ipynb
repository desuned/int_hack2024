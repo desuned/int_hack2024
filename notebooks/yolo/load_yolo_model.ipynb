{
 "cells": [
  {
   "cell_type": "code",
   "id": "initial_id",
   "metadata": {
    "collapsed": true,
    "ExecuteTime": {
     "end_time": "2024-11-03T20:49:55.998189Z",
     "start_time": "2024-11-03T20:49:55.995245Z"
    }
   },
   "source": [
    "import torch\n",
    "from ultralytics import YOLO\n",
    "import cv2\n",
    "import onnxruntime as ort"
   ],
   "execution_count": 47,
   "outputs": []
  },
  {
   "metadata": {
    "ExecuteTime": {
     "end_time": "2024-11-03T20:49:57.422547Z",
     "start_time": "2024-11-03T20:49:57.419685Z"
    }
   },
   "cell_type": "code",
   "source": [
    "pt_path = 'D:\\\\ProgPrj\\\\Undead\\\\HollywoodForever\\\\notebooks\\\\yolo\\\\runs\\\\detect\\\\train23\\\\weights\\\\best.pt'\n",
    "onnx_path = '/HollywoodForever/application/model_repository/1/model.onnx'"
   ],
   "id": "6ae729f70ab5dd19",
   "execution_count": 48,
   "outputs": []
  },
  {
   "metadata": {
    "ExecuteTime": {
     "end_time": "2024-11-03T20:49:57.805742Z",
     "start_time": "2024-11-03T20:49:57.717127Z"
    }
   },
   "cell_type": "code",
   "source": "model_pt = YOLO(pt_path)",
   "id": "d1471057a5d670bc",
   "execution_count": 49,
   "outputs": []
  },
  {
   "metadata": {
    "ExecuteTime": {
     "end_time": "2024-11-03T20:49:58.233737Z",
     "start_time": "2024-11-03T20:49:58.228337Z"
    }
   },
   "cell_type": "code",
   "source": [
    "img_path = 'D:\\\\ProgPrj\\\\Undead\\\\HollywoodForever\\\\data\\\\datasets\\\\test\\\\images\\\\50428374_JPG.rf.cd066443baf1c14e0e4275fa128089e6.jpg'\n",
    "img = cv2.imread(img_path)"
   ],
   "id": "dee3c21a5a7de7ba",
   "execution_count": 50,
   "outputs": []
  },
  {
   "metadata": {
    "ExecuteTime": {
     "end_time": "2024-11-03T20:49:59.289018Z",
     "start_time": "2024-11-03T20:49:58.743487Z"
    }
   },
   "cell_type": "code",
   "source": "results_pt = model_pt(img_path)",
   "id": "c28f8abdd0d6b098",
   "execution_count": 51,
   "outputs": []
  },
  {
   "metadata": {
    "ExecuteTime": {
     "end_time": "2024-11-03T20:50:00.821901Z",
     "start_time": "2024-11-03T20:50:00.818893Z"
    }
   },
   "cell_type": "code",
   "source": [
    "# Отобразить предсказание на изображении\n",
    "annotated_img = results_pt[0].plot()  # results[0] – это первое предсказание"
   ],
   "id": "2b809ce1e53ff2ed",
   "execution_count": 52,
   "outputs": []
  },
  {
   "metadata": {
    "ExecuteTime": {
     "end_time": "2024-11-03T21:10:28.146429Z",
     "start_time": "2024-11-03T21:10:24.556935Z"
    }
   },
   "cell_type": "code",
   "source": [
    "# Показать изображение с bboxes\n",
    "cv2.imshow(\"Detection\", annotated_img)\n",
    "cv2.waitKey(0)\n",
    "cv2.destroyAllWindows()"
   ],
   "id": "e2f5f24bb8ec223b",
   "execution_count": 78,
   "outputs": []
  },
  {
   "metadata": {
    "ExecuteTime": {
     "end_time": "2024-11-03T20:39:21.817782Z",
     "start_time": "2024-11-03T20:37:35.159240Z"
    }
   },
   "cell_type": "code",
   "source": [
    "for result in results_pt[0].boxes:\n",
    "    x1, y1, x2, y2 = map(int, result.xyxy[0])  # Получить координаты bbox (верхний левый и нижний правый угол)\n",
    "\n",
    "    # Обрезать изображение по координатам bbox\n",
    "    cropped_img = img[y1:y2, x1:x2]\n",
    "\n",
    "    # Показать обрезанное изображение\n",
    "    cv2.imshow(\"Cropped Detection\", cropped_img)\n",
    "    cv2.waitKey(0)\n",
    "    cv2.destroyAllWindows()"
   ],
   "id": "a792602f9cc536fb",
   "execution_count": 28,
   "outputs": []
  },
  {
   "metadata": {},
   "cell_type": "code",
   "execution_count": null,
   "source": [
    "\"\"\"\n",
    "CUDA:\n",
    "image 1/1 D:\\ProgPrj\\Undead\\HollywoodForever\\data\\datasets\\test\\images\\50428374_JPG.rf.cd066443baf1c14e0e4275fa128089e6.jpg: 640x640 1 licence, 71.0ms\n",
    "Speed: 1.0ms preprocess, 71.0ms inference, 2.0ms postprocess per image at shape (1, 3, 640, 640)\n",
    "\"\"\"\n",
    "\n",
    "\n",
    "\"\"\"\n",
    "CPU:\n",
    "image 1/1 D:\\ProgPrj\\Undead\\HollywoodForever\\data\\datasets\\test\\images\\50428374_JPG.rf.cd066443baf1c14e0e4275fa128089e6.jpg: 640x640 1 licence, 86.0ms\n",
    "Speed: 3.0ms preprocess, 86.0ms inference, 3.5ms postprocess per image at shape (1, 3, 640, 640)\n",
    "\"\"\""
   ],
   "id": "528c3e032a8a3bc1",
   "outputs": []
  },
  {
   "metadata": {},
   "cell_type": "markdown",
   "source": "### ONNX",
   "id": "4da76dea393a2a16"
  },
  {
   "metadata": {
    "ExecuteTime": {
     "end_time": "2024-11-03T21:14:16.612158Z",
     "start_time": "2024-11-03T21:14:16.608623Z"
    }
   },
   "cell_type": "code",
   "source": [
    "import onnxruntime as ort\n",
    "import cv2\n",
    "import numpy as np\n",
    "\n",
    "# Пути к модели и изображению\n",
    "onnx_path = '/HollywoodForever/application/model_repository/1/model.onnx'\n",
    "img_path = 'D:\\\\ProgPrj\\\\Undead\\\\HollywoodForever\\\\data\\\\datasets\\\\test\\\\images\\\\50428374_JPG.rf.cd066443baf1c14e0e4275fa128089e6.jpg'"
   ],
   "id": "72990c862c7f4e3a",
   "execution_count": 88,
   "outputs": []
  },
  {
   "metadata": {
    "ExecuteTime": {
     "end_time": "2024-11-03T21:14:50.543319Z",
     "start_time": "2024-11-03T21:14:50.370140Z"
    }
   },
   "cell_type": "code",
   "source": [
    "# Задаем CUDAExecutionProvider\n",
    "session = ort.InferenceSession(onnx_path, providers=['CPUExecutionProvider'])"
   ],
   "id": "a276613b2d767f93",
   "execution_count": 95,
   "outputs": []
  },
  {
   "metadata": {
    "ExecuteTime": {
     "end_time": "2024-11-03T21:14:51.092899Z",
     "start_time": "2024-11-03T21:14:51.086972Z"
    }
   },
   "cell_type": "code",
   "source": [
    "# Загрузить изображение\n",
    "img = cv2.imread(img_path)\n",
    "original_img = img.copy()  # Сохраним копию оригинального изображения для вывода результатов"
   ],
   "id": "f70400eb6304f808",
   "execution_count": 96,
   "outputs": []
  },
  {
   "metadata": {
    "ExecuteTime": {
     "end_time": "2024-11-03T21:14:51.460463Z",
     "start_time": "2024-11-03T21:14:51.452325Z"
    }
   },
   "cell_type": "code",
   "source": [
    "# Предобработка изображения\n",
    "input_shape = (640, 640)  # Размер входного изображения, зависящий от модели\n",
    "img_resized = cv2.resize(img, input_shape)\n",
    "img_rgb = cv2.cvtColor(img_resized, cv2.COLOR_BGR2RGB)\n",
    "img_normalized = img_rgb / 255.0\n",
    "img_transposed = np.transpose(img_normalized, (2, 0, 1))  # Порядок каналов (C, H, W)\n",
    "img_input = img_transposed.astype(np.float32)\n",
    "img_input = np.expand_dims(img_input, axis=0)  # Добавляем размерность для batch"
   ],
   "id": "aa24432771a69059",
   "execution_count": 97,
   "outputs": []
  },
  {
   "metadata": {
    "ExecuteTime": {
     "end_time": "2024-11-03T21:14:51.987279Z",
     "start_time": "2024-11-03T21:14:51.825237Z"
    }
   },
   "cell_type": "code",
   "source": [
    "# Выполнить инференс\n",
    "input_name = session.get_inputs()[0].name\n",
    "outputs = session.run(None, {input_name: img_input})\n",
    "\n",
    "# Постобработка вывода для YOLO\n",
    "# Обычно выход YOLO включает координаты bbox и уверенность\n",
    "# Предположим, что в `outputs` первый элемент — это bbox с форматами [x_min, y_min, x_max, y_max, confidence, class]\n",
    "detections = outputs[0][0]  # Извлекаем предсказания\n",
    "\n",
    "# Коэффициенты масштабирования\n",
    "height_ratio = original_img.shape[0] / input_shape[1]\n",
    "width_ratio = original_img.shape[1] / input_shape[0]"
   ],
   "id": "8cb5ba5f4e5c09de",
   "execution_count": 98,
   "outputs": []
  },
  {
   "metadata": {
    "ExecuteTime": {
     "end_time": "2024-11-03T21:14:52.403251Z",
     "start_time": "2024-11-03T21:14:52.387059Z"
    }
   },
   "cell_type": "code",
   "source": [
    "for detection in detections:\n",
    "    confidence = detection[4]  # Уверенность\n",
    "    if confidence > 0.5:  # Фильтрация по уверенности\n",
    "        class_id = int(detection[5])\n",
    "        x_min = int(detection[0] * width_ratio)\n",
    "        y_min = int(detection[1] * height_ratio)\n",
    "        x_max = int(detection[2] * width_ratio)\n",
    "        y_max = int(detection[3] * height_ratio)\n",
    "\n",
    "        # Нарисовать bounding box на изображении\n",
    "        cv2.rectangle(original_img, (x_min, y_min), (x_max, y_max), (0, 255, 0), 2)\n",
    "        label = f'Class {class_id}: {confidence:.2f}'\n",
    "        cv2.putText(original_img, label, (x_min, y_min - 10), cv2.FONT_HERSHEY_SIMPLEX, 0.5, (0, 255, 0), 2)\n"
   ],
   "id": "932594cf9fa13bf4",
   "execution_count": 99,
   "outputs": []
  },
  {
   "metadata": {
    "ExecuteTime": {
     "end_time": "2024-11-03T21:14:54.736392Z",
     "start_time": "2024-11-03T21:14:52.721941Z"
    }
   },
   "cell_type": "code",
   "source": [
    "# Показать изображение с bbox\n",
    "cv2.imshow(\"Detection\", original_img)\n",
    "cv2.waitKey(0)\n",
    "cv2.destroyAllWindows()"
   ],
   "id": "deeaedae9e2b961e",
   "execution_count": 100,
   "outputs": []
  },
  {
   "metadata": {},
   "cell_type": "code",
   "execution_count": null,
   "source": "",
   "id": "66df0b50baf0512d",
   "outputs": []
  },
  {
   "metadata": {
    "ExecuteTime": {
     "end_time": "2024-11-03T21:10:56.882784Z",
     "start_time": "2024-11-03T21:10:55.163972Z"
    }
   },
   "cell_type": "code",
   "source": "",
   "id": "c8a020fa25e8d691",
   "execution_count": 79,
   "outputs": []
  },
  {
   "metadata": {},
   "cell_type": "code",
   "execution_count": null,
   "source": "",
   "id": "2d7995f09e005362",
   "outputs": []
  },
  {
   "metadata": {
    "ExecuteTime": {
     "end_time": "2024-11-04T12:20:39.230358Z",
     "start_time": "2024-11-04T12:20:34.421167Z"
    }
   },
   "cell_type": "code",
   "source": [
    "from ultralytics import YOLO\n",
    "import cv2\n",
    "\n",
    "# Загрузите ONNX модель через Ultralytics\n",
    "model = YOLO('/HollywoodForever/application/model_repository/1/model.onnx')\n",
    "\n",
    "# Выполните предсказание\n",
    "results = model.predict(source='D:\\\\ProgPrj\\\\Undead\\\\HollywoodForever\\\\data\\\\datasets\\\\test\\\\images\\\\50428374_JPG.rf.cd066443baf1c14e0e4275fa128089e6.jpg', imgsz=640)\n",
    "\n",
    "# Отобразите изображение с предсказанными bounding boxes\n",
    "for result in results:\n",
    "    image = result.plot()  # Используем plot() для получения изображения с нарисованными bounding boxes\n",
    "    cv2.imshow(\"Predicted Image\", image)\n",
    "    cv2.waitKey(0)\n",
    "    cv2.destroyAllWindows()\n"
   ],
   "id": "2f2172eaf5c41cf3",
   "execution_count": 105,
   "outputs": []
  },
  {
   "metadata": {},
   "cell_type": "code",
   "execution_count": null,
   "source": "",
   "id": "fc4dd8533ff7c14c",
   "outputs": []
  }
 ],
 "metadata": {
  "kernelspec": {
   "display_name": "Python 3",
   "language": "python",
   "name": "python3"
  },
  "language_info": {
   "codemirror_mode": {
    "name": "ipython",
    "version": 2
   },
   "file_extension": ".py",
   "mimetype": "text/x-python",
   "name": "python",
   "nbconvert_exporter": "python",
   "pygments_lexer": "ipython2",
   "version": "2.7.6"
  }
 },
 "nbformat": 4,
 "nbformat_minor": 5
}
